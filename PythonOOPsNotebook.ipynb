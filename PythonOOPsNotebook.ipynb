{
 "cells": [
  {
   "cell_type": "markdown",
   "metadata": {},
   "source": [
    "## Python Object Oriented Programming"
   ]
  },
  {
   "cell_type": "markdown",
   "metadata": {},
   "source": [
    "####\n",
    "\n",
    "Using Python OOPS concept to a Restraunt that has menu, receive orders, see order details, payment details. Concepts like Inheritance, Encapsulation, Private attributes, Class methods, Unit testing are performed   "
   ]
  },
  {
   "cell_type": "markdown",
   "metadata": {},
   "source": [
    "#### Classes\n",
    " Restraunt,\n",
    " Menu,\n",
    " Order,\n",
    " Payment,\n",
    " Customer"
   ]
  },
  {
   "cell_type": "code",
   "execution_count": 59,
   "metadata": {},
   "outputs": [],
   "source": [
    "# from Menu import Menu\n",
    "\n",
    "class Resturant():\n",
    "    \n",
    "    def __init__(self, name_restraunt:str, address_restraunt:str):\n",
    "        \"\"\"\n",
    "        Setting name and address params to private \n",
    "        \"\"\"\n",
    "        \n",
    "        self.__name_restraunt = name_restraunt \n",
    "        self.__address_restraunt = address_restraunt\n",
    "\n",
    "    @property\n",
    "    def name_restraunt(self):  \n",
    "        return self.__name_restraunt\n",
    "    \n",
    "    @property\n",
    "    def address_restraunt(self):\n",
    "        return self.__address_restraunt\n",
    "\n",
    "    def __repr__(self) -> str:\n",
    "        return f\"The name and address of the restaunt are '{self.__name_restraunt}' and '{self.__address_restraunt}'\"\n",
    "    "
   ]
  },
  {
   "cell_type": "code",
   "execution_count": 60,
   "metadata": {},
   "outputs": [
    {
     "data": {
      "text/plain": [
       "\"The name and address of the restaunt are 'Arun Restraunt' and '119  Villejuif Paris'\""
      ]
     },
     "execution_count": 60,
     "metadata": {},
     "output_type": "execute_result"
    }
   ],
   "source": [
    "restraunt = Resturant('Arun Restraunt', '119  Villejuif Paris')\n",
    "\n",
    "restraunt.__repr__()"
   ]
  },
  {
   "cell_type": "markdown",
   "metadata": {},
   "source": [
    "##### Unit Test - Restraunt Class"
   ]
  },
  {
   "cell_type": "code",
   "execution_count": 83,
   "metadata": {},
   "outputs": [],
   "source": [
    "import unittest\n",
    "\n",
    "class TestRestraunt(unittest.TestCase):\n",
    "    \n",
    "    def initalise(self):\n",
    "         self.Resturant('Arun Restraunt', '119  Villejuif Paris')\n",
    "    \n",
    "    def test_nameanddesc(self):\n",
    "        self.assetEqual(self.res1.name_restraunt, \"Arun Restraunt\")\n",
    "        self.assetEqual(self.res1.address_restraunt,  '119  Villejuif Paris')\n",
    "\n",
    "\n"
   ]
  },
  {
   "cell_type": "markdown",
   "metadata": {},
   "source": [
    "##### Class -  Menu"
   ]
  },
  {
   "cell_type": "code",
   "execution_count": 62,
   "metadata": {},
   "outputs": [],
   "source": [
    "class Menu():    \n",
    "\n",
    "    allmenuitem = []\n",
    "\n",
    "    def __init__(self, listall_menus:list):\n",
    "     \n",
    "        \"\"\"\n",
    "        Initaize Menu class as a param as input list \n",
    "        of menus\n",
    "        \"\"\"\n",
    "        \n",
    "        self.listall_menus = listall_menus\n",
    "        self.allmenuitem.extend(listall_menus) \n",
    "        # Menu.all_menus.append(self)\n",
    "\n",
    "    def display_all_menus(self):\n",
    "        \"\"\"\n",
    "        A method to display all the menus in the restraunt\n",
    "        \"\"\"        \n",
    "        for menu_item in self.listall_menus:\n",
    "            # print(menu_item)\n",
    "            print(f\"Menu Item ID   : {menu_item['Menu_item_id']}\")\n",
    "            print(f\"Menu Item Name : {menu_item['Menu_item_name']}\")\n",
    "            print(f\"Menu Item Desc : {menu_item['Menu_item_desc']}\")\n",
    "            print(f\"Menu Item Prize: {menu_item['Menu_item_prize']}\")\n",
    "            print()\n",
    "\n",
    "    def add_new_menu(self,  newmenu:dict):\n",
    "        \"\"\"\n",
    "        A method to display add menus to restraunt\n",
    "        \"\"\"\n",
    "        \n",
    "        self.listall_menus.append(newmenu)\n",
    "        print(\"New menu added successfully.\" , newmenu)\n",
    "\n",
    "\n",
    "    def find_menuitem_detail(self, menuitem_tofind:str):\n",
    "        \n",
    "        \"\"\"\n",
    "        A method to find all details about a specific menu \n",
    "        \"\"\"    \n",
    "        res = None\n",
    "        for menu in self.listall_menus:\n",
    "            # print(menu.get('Menu_item_id'))\n",
    "            if menu.get('Menu_item_id') ==  menuitem_tofind:\n",
    "                res = menu\n",
    "                break\n",
    "\n",
    "        else:\n",
    "            print('Menu not Available')\n",
    "        return res\n",
    "    \n",
    "\n",
    "    def find_priceof_menu(self, menuitem_pricetofind:str):\n",
    "        \"\"\"\n",
    "        A method to find a price of a specific menu \n",
    "        \"\"\"\n",
    "        res = None\n",
    "        for menu in self.listall_menus:\n",
    "            # print(menu.get('Menu_item_name'))\n",
    "            if menu.get('Menu_item_name') ==  menuitem_pricetofind:\n",
    "                # print(menu.get('Menu_item_prize'))\n",
    "                res = menu.get('Menu_item_prize')\n",
    "\n",
    "                break\n",
    "\n",
    "        else:\n",
    "            print('Menu not Available')\n",
    "        return  f\"price of '{menuitem_pricetofind}' is '{res}'\"\n",
    "            \n",
    "\n",
    "\n",
    "    def __repr__(self) -> str:\n",
    "        return f\" Menus - '{self.listall_menus}' \"\n",
    "\n",
    "\n"
   ]
  },
  {
   "cell_type": "code",
   "execution_count": 84,
   "metadata": {},
   "outputs": [],
   "source": [
    "menus = Menu([{'Menu_item_id': 1, 'Menu_item_name': 'Caesar Salad', 'Menu_item_desc': 'Delicious spaghetti with Bolognese sauce', 'Menu_item_prize': 7.5},\n",
    "{'Menu_item_id': 2, 'Menu_item_name': 'Pad Thai', 'Menu_item_desc': 'Grilled salmon with lemon and herbs', 'Menu_item_prize': 6.0},\n",
    "{'Menu_item_id': 3, 'Menu_item_name': 'Grilled Salmon', 'Menu_item_desc': 'Tender BBQ ribs with BBQ sauce', 'Menu_item_prize': 14.5},\n",
    "{'Menu_item_id': 4, 'Menu_item_name': 'Sushi Roll', 'Menu_item_desc': 'Healthy stir-fried vegetables with soy sauce', 'Menu_item_prize': 9.5},\n",
    "{'Menu_item_id': 5, 'Menu_item_name': 'Chicken Alfredo', 'Menu_item_desc': 'Creamy mushroom risotto with parmesan', 'Menu_item_prize': 9.0},\n",
    "{'Menu_item_id': 6, 'Menu_item_name': 'Cheeseburger', 'Menu_item_desc': 'Traditional Margherita pizza with tomato and cheese', 'Menu_item_prize': 13.99},\n",
    "{'Menu_item_id': 7, 'Menu_item_name': 'BBQ Ribs', 'Menu_item_desc': 'Flavorful Pad Thai with noodles and veggies', 'Menu_item_prize': 9.0},\n",
    "{'Menu_item_id': 8, 'Menu_item_name': 'Cheeseburger', 'Menu_item_desc': 'Grilled salmon with lemon and herbs', 'Menu_item_prize': 12.5},\n",
    "{'Menu_item_id': 9, 'Menu_item_name': 'Vegetable Stir-Fry', 'Menu_item_desc': 'Classic cheeseburger with fries', 'Menu_item_prize': 9.5},\n",
    "{'Menu_item_id': 10, 'Menu_item_name': 'Sushi Roll', 'Menu_item_desc': 'Delicious spaghetti with Bolognese sauce', 'Menu_item_prize': 14.5},\n",
    "{'Menu_item_id': 11, 'Menu_item_name': 'Grilled Salmon', 'Menu_item_desc': 'Assorted sushi rolls with fresh fish and rice', 'Menu_item_prize': 5.5},\n",
    "{'Menu_item_id': 12, 'Menu_item_name': 'BBQ Ribs', 'Menu_item_desc': 'Classic cheeseburger with fries', 'Menu_item_prize': 14.5},\n",
    "{'Menu_item_id': 13, 'Menu_item_name': 'Mushroom Risotto', 'Menu_item_desc': 'Assorted sushi rolls with fresh fish and rice', 'Menu_item_prize': 9.0},\n",
    "{'Menu_item_id': 14, 'Menu_item_name': 'Spaghetti Bolognese', 'Menu_item_desc': 'Tender BBQ ribs with BBQ sauce', 'Menu_item_prize': 14.5},\n",
    "{'Menu_item_id': 15, 'Menu_item_name': 'Cheeseburger', 'Menu_item_desc': 'Fresh Caesar salad with dressing', 'Menu_item_prize': 9.5},\n",
    "{'Menu_item_id': 16, 'Menu_item_name': 'Grilled Salmon', 'Menu_item_desc': 'Fresh Caesar salad with dressing', 'Menu_item_prize': 10.5},\n",
    "{'Menu_item_id': 17, 'Menu_item_name': 'Margherita Pizza', 'Menu_item_desc': 'Classic cheeseburger with fries', 'Menu_item_prize': 13.99},\n",
    "{'Menu_item_id': 18, 'Menu_item_name': 'Sushi Roll', 'Menu_item_desc': 'Tender BBQ ribs with BBQ sauce', 'Menu_item_prize': 9.5},\n",
    "{'Menu_item_id': 19, 'Menu_item_name': 'Cheeseburger', 'Menu_item_desc': 'Assorted sushi rolls with fresh fish and rice', 'Menu_item_prize': 8.99},\n",
    "{'Menu_item_id': 20, 'Menu_item_name': 'Vegetable Stir-Fry', 'Menu_item_desc': 'Assorted sushi rolls with fresh fish and rice', 'Menu_item_prize': 5.5}])\n"
   ]
  },
  {
   "cell_type": "code",
   "execution_count": 85,
   "metadata": {},
   "outputs": [
    {
     "name": "stdout",
     "output_type": "stream",
     "text": [
      "Menu Item ID   : 1\n",
      "Menu Item Name : Caesar Salad\n",
      "Menu Item Desc : Delicious spaghetti with Bolognese sauce\n",
      "Menu Item Prize: 7.5\n",
      "\n",
      "Menu Item ID   : 2\n",
      "Menu Item Name : Pad Thai\n",
      "Menu Item Desc : Grilled salmon with lemon and herbs\n",
      "Menu Item Prize: 6.0\n",
      "\n",
      "Menu Item ID   : 3\n",
      "Menu Item Name : Grilled Salmon\n",
      "Menu Item Desc : Tender BBQ ribs with BBQ sauce\n",
      "Menu Item Prize: 14.5\n",
      "\n",
      "Menu Item ID   : 4\n",
      "Menu Item Name : Sushi Roll\n",
      "Menu Item Desc : Healthy stir-fried vegetables with soy sauce\n",
      "Menu Item Prize: 9.5\n",
      "\n",
      "Menu Item ID   : 5\n",
      "Menu Item Name : Chicken Alfredo\n",
      "Menu Item Desc : Creamy mushroom risotto with parmesan\n",
      "Menu Item Prize: 9.0\n",
      "\n",
      "Menu Item ID   : 6\n",
      "Menu Item Name : Cheeseburger\n",
      "Menu Item Desc : Traditional Margherita pizza with tomato and cheese\n",
      "Menu Item Prize: 13.99\n",
      "\n",
      "Menu Item ID   : 7\n",
      "Menu Item Name : BBQ Ribs\n",
      "Menu Item Desc : Flavorful Pad Thai with noodles and veggies\n",
      "Menu Item Prize: 9.0\n",
      "\n",
      "Menu Item ID   : 8\n",
      "Menu Item Name : Cheeseburger\n",
      "Menu Item Desc : Grilled salmon with lemon and herbs\n",
      "Menu Item Prize: 12.5\n",
      "\n",
      "Menu Item ID   : 9\n",
      "Menu Item Name : Vegetable Stir-Fry\n",
      "Menu Item Desc : Classic cheeseburger with fries\n",
      "Menu Item Prize: 9.5\n",
      "\n",
      "Menu Item ID   : 10\n",
      "Menu Item Name : Sushi Roll\n",
      "Menu Item Desc : Delicious spaghetti with Bolognese sauce\n",
      "Menu Item Prize: 14.5\n",
      "\n",
      "Menu Item ID   : 11\n",
      "Menu Item Name : Grilled Salmon\n",
      "Menu Item Desc : Assorted sushi rolls with fresh fish and rice\n",
      "Menu Item Prize: 5.5\n",
      "\n",
      "Menu Item ID   : 12\n",
      "Menu Item Name : BBQ Ribs\n",
      "Menu Item Desc : Classic cheeseburger with fries\n",
      "Menu Item Prize: 14.5\n",
      "\n",
      "Menu Item ID   : 13\n",
      "Menu Item Name : Mushroom Risotto\n",
      "Menu Item Desc : Assorted sushi rolls with fresh fish and rice\n",
      "Menu Item Prize: 9.0\n",
      "\n",
      "Menu Item ID   : 14\n",
      "Menu Item Name : Spaghetti Bolognese\n",
      "Menu Item Desc : Tender BBQ ribs with BBQ sauce\n",
      "Menu Item Prize: 14.5\n",
      "\n",
      "Menu Item ID   : 15\n",
      "Menu Item Name : Cheeseburger\n",
      "Menu Item Desc : Fresh Caesar salad with dressing\n",
      "Menu Item Prize: 9.5\n",
      "\n",
      "Menu Item ID   : 16\n",
      "Menu Item Name : Grilled Salmon\n",
      "Menu Item Desc : Fresh Caesar salad with dressing\n",
      "Menu Item Prize: 10.5\n",
      "\n",
      "Menu Item ID   : 17\n",
      "Menu Item Name : Margherita Pizza\n",
      "Menu Item Desc : Classic cheeseburger with fries\n",
      "Menu Item Prize: 13.99\n",
      "\n",
      "Menu Item ID   : 18\n",
      "Menu Item Name : Sushi Roll\n",
      "Menu Item Desc : Tender BBQ ribs with BBQ sauce\n",
      "Menu Item Prize: 9.5\n",
      "\n",
      "Menu Item ID   : 19\n",
      "Menu Item Name : Cheeseburger\n",
      "Menu Item Desc : Assorted sushi rolls with fresh fish and rice\n",
      "Menu Item Prize: 8.99\n",
      "\n",
      "Menu Item ID   : 20\n",
      "Menu Item Name : Vegetable Stir-Fry\n",
      "Menu Item Desc : Assorted sushi rolls with fresh fish and rice\n",
      "Menu Item Prize: 5.5\n",
      "\n"
     ]
    }
   ],
   "source": [
    "menus.display_all_menus()"
   ]
  },
  {
   "cell_type": "code",
   "execution_count": 65,
   "metadata": {},
   "outputs": [
    {
     "name": "stdout",
     "output_type": "stream",
     "text": [
      "New menu added successfully. {'Menu_item_id': 21, 'Menu_item_name': 'NON Spicy Vegetable Stir-Fry', 'Menu_item_desc': 'Assorted sushi rolls with fresh fish and rice', 'Menu_item_prize': 5.5}\n"
     ]
    }
   ],
   "source": [
    "\n",
    "newmenu = {'Menu_item_id': 21, 'Menu_item_name': 'NON Spicy Vegetable Stir-Fry', 'Menu_item_desc': 'Assorted sushi rolls with fresh fish and rice', 'Menu_item_prize': 5.5}\n",
    "menus.add_new_menu(newmenu)\n"
   ]
  },
  {
   "cell_type": "code",
   "execution_count": 66,
   "metadata": {},
   "outputs": [
    {
     "name": "stdout",
     "output_type": "stream",
     "text": [
      "price of 'BBQ Ribs' is '9.0'\n"
     ]
    }
   ],
   "source": [
    "print(menus.find_priceof_menu('BBQ Ribs'))"
   ]
  },
  {
   "cell_type": "markdown",
   "metadata": {},
   "source": [
    "##### Class -  Payment "
   ]
  },
  {
   "cell_type": "code",
   "execution_count": 67,
   "metadata": {},
   "outputs": [],
   "source": [
    "class Payment():\n",
    "\n",
    "    \"\"\"\n",
    "    A class to display payment records\n",
    "    \"\"\"\n",
    "#     class variable to store all the instanses of payment class\n",
    "    all_payments =[]\n",
    "    \n",
    "    \n",
    "    def __init__(self, __payments_list:list):\n",
    "\n",
    "        self.__payment_list = __payments_list\n",
    "        self.all_payments.extend(__payments_list) #appending to the class varible list \n",
    "\n",
    "\n",
    "    def __repr__(self) -> str:\n",
    "        \n",
    "        return  f\"Payments created '{self.__payment_list}'\"\n",
    "\n",
    "\n",
    "\n",
    "payments = Payment([{'Order_id':'ORD3243', 'Payment_ref':'LKHL', 'Payment_time':'12.21am','Is_Payment_processed': 'YES', 'Customer_ID': 'CUST1235' },\n",
    "               {'Order_id': 'ORDWFEA', 'Payment_ref': 'MWLI', 'Payment_time': '10.32am', 'Is_Payment_processed': 'YES', 'Customer_ID': 'CUSTBEFA'},\n",
    "                {'Order_id': 'ORDEHRR', 'Payment_ref': 'FBTZ', 'Payment_time': '05.43am', 'Is_Payment_processed': 'YES', 'Customer_ID': 'CUSTWTIE'},\n",
    "                {'Order_id': 'ORDRKQO', 'Payment_ref': 'QFPI', 'Payment_time': '09.20pm', 'Is_Payment_processed': 'NO', 'Customer_ID': 'CUSTUBBQ'},\n",
    "                {'Order_id': 'ORDGQIY', 'Payment_ref': 'EVQT', 'Payment_time': '08.34pm', 'Is_Payment_processed': 'YES', 'Customer_ID': 'CUSTMAEF'},\n",
    "                {'Order_id': 'ORDTYEL', 'Payment_ref': 'RHSD', 'Payment_time': '07.39pm', 'Is_Payment_processed': 'YES', 'Customer_ID': 'CUSTXIDC'},\n",
    "                {'Order_id': 'ORDADWI', 'Payment_ref': 'MUVV', 'Payment_time': '08.39pm', 'Is_Payment_processed': 'NO', 'Customer_ID': 'CUSTNGSC'}])\n",
    "\n",
    "        \n",
    "\n",
    "# print(payments.__repr__())"
   ]
  },
  {
   "cell_type": "markdown",
   "metadata": {},
   "source": [
    "##### Order Class inherting Menu and Payment classes"
   ]
  },
  {
   "cell_type": "code",
   "execution_count": 70,
   "metadata": {},
   "outputs": [],
   "source": [
    "# from Menu import Menu\n",
    "# from Payment import Payment\n",
    "\n",
    "class Orders(Menu, Payment):\n",
    "    \"\"\"\n",
    "    A class to display all details of orders inheriting Menu and Payment classes\n",
    "   \n",
    "    \"\"\"\n",
    "    \n",
    "    all_orders = []\n",
    "\n",
    "    def __init__(self, orders_list) -> None:\n",
    " \n",
    "        self.orders_list = orders_list\n",
    "\n",
    "        Menu.__init__(self, [])\n",
    "        Payment.__init__(self, [])\n",
    "        Orders.all_orders.append(self)\n",
    "\n",
    "    @classmethod    \n",
    "    def print_all_order_info(cls):\n",
    "        \n",
    "#         Accessing Class variable from a class method\n",
    "        \n",
    "        for order_items in cls.all_orders:\n",
    "            # print(order_items.orders_list)\n",
    "            # print(type(order_items.orders_list))\n",
    "\n",
    "            res = []\n",
    "            if len(order_items.orders_list) > 0:            \n",
    "                for i in range(0,len(order_items.orders_list)):\n",
    "                    print('Created Orders', order_items.orders_list[i])   \n",
    "            else:\n",
    "                return False\n",
    "\n",
    "        return True\n",
    "    \n",
    "    @classmethod\n",
    "    def find_specific_order_detail(cls, orderid_tofind) :\n",
    "\n",
    "        for order_items in cls.all_orders:\n",
    "            res = []\n",
    "            if len(order_items.orders_list) > 0:            \n",
    "                for i in range(0, len(order_items.orders_list)):\n",
    "                    if order_items.orders_list[i].get('Order_id') == orderid_tofind:\n",
    "                        res = order_items.orders_list[i]\n",
    "                        print(f\"{'**Order details**': <15}:  \")\n",
    "                        print(f\"{'Order_id': <15}: {order_items.orders_list[i].get('Order_id') }\")\n",
    "                        print(f\"{'Order_Details': <15}: {order_items.orders_list[i].get('Order_Details') }\")\n",
    "                        print(f\"{'Order_Time': <15}: {order_items.orders_list[i].get('Order_Time')}\")\n",
    "                        print(f\"{'Ordered_Menu_ID': <15}: {order_items.orders_list[i].get('Ordered_Menu_ID') }\")\n",
    "                        print(f\"{'Customer_ID': <15}: {order_items.orders_list[i].get('Customer_ID') }\")\n",
    "                    \n",
    "                        break\n",
    "\n",
    "                for menu in cls.allmenuitem:\n",
    "                    # print(menus)\n",
    "                    if menu.get('Menu_item_id') ==  order_items.orders_list[i].get('Ordered_Menu_ID') :\n",
    "                        res = menu\n",
    "#                         print(res)\n",
    "                        print(f\"Menu Item ID   : {menu['Menu_item_id']}\")\n",
    "                        print(f\"Menu Item Name : {menu['Menu_item_name']}\")\n",
    "                        print(f\"Menu Item Desc : {menu['Menu_item_desc']}\")\n",
    "                        print(f\"Menu Item Prize: {menu['Menu_item_prize']}\")\n",
    "                        print()\n",
    "                        break\n",
    "                \n",
    "                for payment in cls.all_payments:\n",
    "                    \n",
    "                     if payment.get('Order_id') == order_items.orders_list[i].get('Order_id'):\n",
    "#                         print(payment)\n",
    "                        print(f\"{'**Payment details**': <15}:  \")\n",
    "                        print(f\"Payment reference   : {payment['Payment_ref']}\")\n",
    "                        print(f\"Payment time : {payment['Payment_time']}\")\n",
    "                        print(f\"Is_Payment_processed : {payment['Is_Payment_processed']}\")\n",
    "                        print(f\"Customer_ID : {payment['Customer_ID']}\")\n",
    "                        print()\n",
    "                        break\n",
    "                \n",
    "        return  res\n",
    "    \n",
    "\n",
    "\n",
    "    def __repr__(self) -> str:\n",
    "        return  f\"Order created - '{self.orders_list}'\"\n",
    "    \n",
    "\n",
    "\n",
    "\n"
   ]
  },
  {
   "cell_type": "code",
   "execution_count": 71,
   "metadata": {},
   "outputs": [],
   "source": [
    "ordersbulk = Orders([{'Order_id':'ORD3243', 'Order_Details':'Pizza', 'Order_Time':'12.21am','Ordered_Menu_ID': 0, 'Customer_ID': 'CUST1235' },\n",
    "               {'Order_id': 'ORDWFEA', 'Order_Details': 'Pizza MWLI', 'Order_Time': '10.32am', 'Ordered_Menu_ID': 1, 'Customer_ID': 'CUSTBEFA'},\n",
    "                {'Order_id': 'ORDEHRR', 'Order_Details': 'Pizza FBTZ', 'Order_Time': '05.43am', 'Ordered_Menu_ID': 2, 'Customer_ID': 'CUSTWTIE'},\n",
    "                {'Order_id': 'ORDRKQO', 'Order_Details': 'Pizza QFPI', 'Order_Time': '09.20pm', 'Ordered_Menu_ID': 3, 'Customer_ID': 'CUSTUBBQ'},\n",
    "                {'Order_id': 'ORDGQIY', 'Order_Details': 'Pizza EVQT', 'Order_Time': '08.34pm', 'Ordered_Menu_ID': 4, 'Customer_ID': 'CUSTMAEF'},\n",
    "                {'Order_id': 'ORDTYEL', 'Order_Details': 'Pizza RHSD', 'Order_Time': '07.39pm', 'Ordered_Menu_ID': 5, 'Customer_ID': 'CUSTXIDC'},\n",
    "                {'Order_id': 'ORDADWI', 'Order_Details': 'Pizza MUVV', 'Order_Time': '08.39pm', 'Ordered_Menu_ID': 6, 'Customer_ID': 'CUSTNGSC'}])\n"
   ]
  },
  {
   "cell_type": "code",
   "execution_count": 72,
   "metadata": {},
   "outputs": [
    {
     "name": "stdout",
     "output_type": "stream",
     "text": [
      "Created Orders {'Order_id': 'ORD3243', 'Order_Details': 'Pizza', 'Order_Time': '12.21am', 'Ordered_Menu_ID': 0, 'Customer_ID': 'CUST1235'}\n",
      "Created Orders {'Order_id': 'ORDWFEA', 'Order_Details': 'Pizza MWLI', 'Order_Time': '10.32am', 'Ordered_Menu_ID': 1, 'Customer_ID': 'CUSTBEFA'}\n",
      "Created Orders {'Order_id': 'ORDEHRR', 'Order_Details': 'Pizza FBTZ', 'Order_Time': '05.43am', 'Ordered_Menu_ID': 2, 'Customer_ID': 'CUSTWTIE'}\n",
      "Created Orders {'Order_id': 'ORDRKQO', 'Order_Details': 'Pizza QFPI', 'Order_Time': '09.20pm', 'Ordered_Menu_ID': 3, 'Customer_ID': 'CUSTUBBQ'}\n",
      "Created Orders {'Order_id': 'ORDGQIY', 'Order_Details': 'Pizza EVQT', 'Order_Time': '08.34pm', 'Ordered_Menu_ID': 4, 'Customer_ID': 'CUSTMAEF'}\n",
      "Created Orders {'Order_id': 'ORDTYEL', 'Order_Details': 'Pizza RHSD', 'Order_Time': '07.39pm', 'Ordered_Menu_ID': 5, 'Customer_ID': 'CUSTXIDC'}\n",
      "Created Orders {'Order_id': 'ORDADWI', 'Order_Details': 'Pizza MUVV', 'Order_Time': '08.39pm', 'Ordered_Menu_ID': 6, 'Customer_ID': 'CUSTNGSC'}\n"
     ]
    },
    {
     "data": {
      "text/plain": [
       "True"
      ]
     },
     "execution_count": 72,
     "metadata": {},
     "output_type": "execute_result"
    }
   ],
   "source": [
    "Orders.print_all_order_info()\n"
   ]
  },
  {
   "cell_type": "code",
   "execution_count": 73,
   "metadata": {},
   "outputs": [
    {
     "name": "stdout",
     "output_type": "stream",
     "text": [
      "**Order details**:  \n",
      "Order_id       : ORDRKQO\n",
      "Order_Details  : Pizza QFPI\n",
      "Order_Time     : 09.20pm\n",
      "Ordered_Menu_ID: 3\n",
      "Customer_ID    : CUSTUBBQ\n",
      "Menu Item ID   : 3\n",
      "Menu Item Name : Grilled Salmon\n",
      "Menu Item Desc : Tender BBQ ribs with BBQ sauce\n",
      "Menu Item Prize: 14.5\n",
      "\n",
      "**Payment details**:  \n",
      "Payment reference   : QFPI\n",
      "Payment time : 09.20pm\n",
      "Is_Payment_processed : NO\n",
      "Customer_ID : CUSTUBBQ\n",
      "\n"
     ]
    },
    {
     "data": {
      "text/plain": [
       "{'Menu_item_id': 3,\n",
       " 'Menu_item_name': 'Grilled Salmon',\n",
       " 'Menu_item_desc': 'Tender BBQ ribs with BBQ sauce',\n",
       " 'Menu_item_prize': 14.5}"
      ]
     },
     "execution_count": 73,
     "metadata": {},
     "output_type": "execute_result"
    }
   ],
   "source": [
    "Orders.find_specific_order_detail('ORDRKQO')\n",
    "# print(Orders.all_orders)\n",
    "# print(ordersbulk.find_menu_detail())"
   ]
  },
  {
   "cell_type": "code",
   "execution_count": 74,
   "metadata": {},
   "outputs": [
    {
     "name": "stdout",
     "output_type": "stream",
     "text": [
      "**Order details**:  \n",
      "Order_id       : ORDADWI\n",
      "Order_Details  : Pizza MUVV\n",
      "Order_Time     : 08.39pm\n",
      "Ordered_Menu_ID: 6\n",
      "Customer_ID    : CUSTNGSC\n",
      "Menu Item ID   : 6\n",
      "Menu Item Name : Cheeseburger\n",
      "Menu Item Desc : Traditional Margherita pizza with tomato and cheese\n",
      "Menu Item Prize: 13.99\n",
      "\n",
      "**Payment details**:  \n",
      "Payment reference   : MUVV\n",
      "Payment time : 08.39pm\n",
      "Is_Payment_processed : NO\n",
      "Customer_ID : CUSTNGSC\n",
      "\n"
     ]
    },
    {
     "data": {
      "text/plain": [
       "{'Menu_item_id': 6,\n",
       " 'Menu_item_name': 'Cheeseburger',\n",
       " 'Menu_item_desc': 'Traditional Margherita pizza with tomato and cheese',\n",
       " 'Menu_item_prize': 13.99}"
      ]
     },
     "execution_count": 74,
     "metadata": {},
     "output_type": "execute_result"
    }
   ],
   "source": [
    "Orders.find_specific_order_detail('ORDADWI')"
   ]
  },
  {
   "cell_type": "code",
   "execution_count": null,
   "metadata": {},
   "outputs": [],
   "source": []
  }
 ],
 "metadata": {
  "kernelspec": {
   "display_name": "Python 3",
   "language": "python",
   "name": "python3"
  },
  "language_info": {
   "codemirror_mode": {
    "name": "ipython",
    "version": 3
   },
   "file_extension": ".py",
   "mimetype": "text/x-python",
   "name": "python",
   "nbconvert_exporter": "python",
   "pygments_lexer": "ipython3",
   "version": "3.8.5"
  }
 },
 "nbformat": 4,
 "nbformat_minor": 4
}
